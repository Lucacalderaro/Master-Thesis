{
 "metadata": {
  "name": ""
 },
 "nbformat": 3,
 "nbformat_minor": 0,
 "worksheets": [
  {
   "cells": [
    {
     "cell_type": "heading",
     "level": 1,
     "metadata": {},
     "source": [
      "Dark Soliton Generation in Bose-Einstein Condensate using Phase Imprinting"
     ]
    },
    {
     "cell_type": "markdown",
     "metadata": {},
     "source": [
      "In this notebook, we simulate the evolution of a dark soliton in a Bose-Einstein Condensate, exploiting the trotter-suzuki runtime. In particular, we simulate the system that was experimentally studied at NIST by J. Denschlag at all. [J. Denschlag, J. E. Simsarian, D. L. Feder, C. W. Clark, L. A. Collins, J. Cubizolles, L. Deng, E. W. Hagley, K. Helmerson, W. P. Reinhardt, S. L. Rolston, B. I. Schneider, and W. D. Phillips. Generating solitons by phase engineering of a Bose\u2013Einstein condensate. Science, 287(5450):97\u2013101, 2000.]\n",
      "\n",
      "First, the ground state is calculated using imaginary time evolution, then the phase imprinting is applied. Finally a real time evolution is performed."
     ]
    },
    {
     "cell_type": "heading",
     "level": 2,
     "metadata": {},
     "source": [
      "Theoretical Background"
     ]
    },
    {
     "cell_type": "markdown",
     "metadata": {},
     "source": [
      "In this section, we introduce the theoretical background of the Bose-Einstein dynamics, introducing the Gross-Pitaevskii equation.\n",
      "\n",
      "The dynamics of a weakly interacting Bose\u2013Einstein condensate may be described by a nonlinear Schrodinger equation, namely, the Gross\u2013Pitaevskii equation. Suppose we have a N-particle system, comprised of bosons interacting with each other. Using the Hartree approximation, we write the many-body wave function as:"
     ]
    },
    {
     "cell_type": "markdown",
     "metadata": {},
     "source": [
      "$\\psi(\\textbf{r}_1, \\textbf{r}_2,\\ldots, \\textbf{r}_N) = \\prod_{i=1}^N \\phi(\\textbf{r}_i),$"
     ]
    },
    {
     "cell_type": "markdown",
     "metadata": {},
     "source": [
      "where the single-particle wave function $\\phi(\\textbf{r}_i)$ is normalized in the usual way,"
     ]
    },
    {
     "cell_type": "markdown",
     "metadata": {},
     "source": [
      "$\\int \\mathrm{d}\\textbf{r} \\, |\\phi(\\textbf{r})|^2 = 1.$"
     ]
    },
    {
     "cell_type": "markdown",
     "metadata": {},
     "source": [
      "For low energy particles, the interaction can be described by an effective potential\n",
      "that in coordinate space corresponds to a contact interaction $U_0 \\delta(\\textbf{r} - \\textbf{r}')$, where $U_0 = 4 \\pi \\hbar^2 a_s / m$ and $a_s$ is the scattering length of the interaction (this holds for a three-dimensonal system). Considering an external potential $V(\\textbf{r}_i)$, the Hamiltonian may be written as"
     ]
    },
    {
     "cell_type": "markdown",
     "metadata": {},
     "source": [
      "$H = \\sum_{i=1}^N \\left[ \\frac{\\textbf{p}_i^2}{2 m} + V(\\textbf{r}_i) \\right] + U_0 \\sum_{i<j} \\delta(\\textbf{r}_i - \\textbf{r}_j).$"
     ]
    },
    {
     "cell_type": "markdown",
     "metadata": {},
     "source": [
      "Then, the energy of the state is given by"
     ]
    },
    {
     "cell_type": "markdown",
     "metadata": {},
     "source": [
      "$E =  N \\int \\mathrm{d} \\textbf{r} \\, \\left[ \\frac{\\hbar^2}{2m} |\\nabla \\phi(\\textbf{r}) |^2 + V(\\textbf{r}) |\\phi(\\textbf{r})|^2 + \\frac{(N-1)}{2} U_0 |\\phi(\\textbf{r})|^4 \\right].$"
     ]
    },
    {
     "cell_type": "markdown",
     "metadata": {},
     "source": [
      "It is convenient to introduce the concept of the wave function of the condensed state,"
     ]
    },
    {
     "cell_type": "markdown",
     "metadata": {},
     "source": [
      "$\\psi(\\textbf{r}) = N^{1/2} \\phi(\\textbf{r}),$"
     ]
    },
    {
     "cell_type": "markdown",
     "metadata": {},
     "source": [
      "so that the normalization condition becomes"
     ]
    },
    {
     "cell_type": "markdown",
     "metadata": {},
     "source": [
      "$\\int \\mathrm{d}\\textbf{r} \\, |\\psi(\\textbf{r})|^2 = N.$"
     ]
    },
    {
     "cell_type": "markdown",
     "metadata": {},
     "source": [
      "Moreover, we suppose that $N \\gg 1$ so that the energy can be rewritten as,"
     ]
    },
    {
     "cell_type": "markdown",
     "metadata": {},
     "source": [
      "$E = \\int \\mathrm{d} \\textbf{r} \\, \\varepsilon  = \\int \\mathrm{d} \\textbf{r} \\, \\left[ \\frac{\\hbar^2}{2m} |\\nabla \\psi(\\textbf{r}) |^2 + V(\\textbf{r}) |\\psi(\\textbf{r})|^2 + \\frac{1}{2} U_0 |\\psi(\\textbf{r})|^4 \\right].$"
     ]
    },
    {
     "cell_type": "markdown",
     "metadata": {},
     "source": [
      "The equation of motion may be derived from the principle of least action "
     ]
    },
    {
     "cell_type": "markdown",
     "metadata": {},
     "source": [
      "$\\delta \\int_{t1}^{t2} \\mathrm{d} t \\, L = 0$"
     ]
    },
    {
     "cell_type": "markdown",
     "metadata": {},
     "source": [
      "where the Lagrangian $L$ is given by"
     ]
    },
    {
     "cell_type": "markdown",
     "metadata": {},
     "source": [
      "$L = \\int \\mathrm{d} \\textbf{r} \\, \\left[ \\frac{\\imath \\hbar}{2} \\left( \\psi^\\ast \\frac{\\partial \\psi}{\\partial t} - \\psi \\frac{\\partial \\psi^\\ast}{\\partial t} \\right) - \\varepsilon \\right].$"
     ]
    },
    {
     "cell_type": "markdown",
     "metadata": {},
     "source": [
      "Requiring that the variation of the independent variables $\\psi(\\textbf{r},t)$ and $\\psi^\\ast (\\textbf{r},t)$ vanishes at $t=t_1$ and $t=t_2$, and on any spatial boundaries, one finds the Gross-Pitaevskii equation:"
     ]
    },
    {
     "cell_type": "markdown",
     "metadata": {},
     "source": [
      "$\\imath \\hbar \\frac{\\partial \\psi(\\textbf{r}, t)}{\\partial t} = \\left[ - \\frac{\\hbar^2}{2m} \\nabla^2 + V(\\textbf{r}) + U_0 |\\psi(\\textbf{r}, t)|^2 \\right] \\psi(\\textbf{r}, t).$"
     ]
    },
    {
     "cell_type": "heading",
     "level": 2,
     "metadata": {},
     "source": [
      "Calculation of the coupling constant $U_0$"
     ]
    },
    {
     "cell_type": "markdown",
     "metadata": {},
     "source": [
      "The system studied at NIST was a BEC of sodium atoms, confined by a three-dimensional harmonic trap. However, the trotter-suzuki runtime implements a two-dimensional Gross-Pitaevskii. This is not a limiting factor since the interesting dynamic is developed in a two-dimensional space, that comprises the axis along which the soliton propagate. Then we need to find the equation of motion of the system in the two-dimensional space. The approach that we adopt is to use a two-dimensional Gross-Pitaevskii equation where the coupling constant $U_0^{(2)}$ is such that the spatial extention of the ground state in the two-dimensional system is the same as the spatial extent, along the same plane, of the ground state in the three-dimensional system."
     ]
    },
    {
     "cell_type": "markdown",
     "metadata": {},
     "source": [
      "The spatial extent is accuratelly determined in the Tomas-Fermi regime, which our system satisfy. Suppose that the contribution of the kinetic energy term is negligible with respect to the one of the interaction term. Then, the ground state is approximated by the solution of the time independent Gross-Pitaevskii equation deprived of the kinetic term:"
     ]
    },
    {
     "cell_type": "markdown",
     "metadata": {},
     "source": [
      "$\\left[ V(\\textbf{r}) + U_0 |\\psi(\\textbf{r})|^2 \\right] \\psi(\\textbf{r}) = \\mu_{TF} \\psi(\\textbf{r}),$"
     ]
    },
    {
     "cell_type": "markdown",
     "metadata": {},
     "source": [
      "where $\\mu_{TF}$ is the chemical potential. This gives the solution"
     ]
    },
    {
     "cell_type": "markdown",
     "metadata": {},
     "source": [
      "$n(\\textbf{r}) = |\\psi(\\textbf{r})|^2 = \\frac{\\mu_{TF} - V(\\textbf{r})}{U_0},\n",
      "$"
     ]
    },
    {
     "cell_type": "markdown",
     "metadata": {},
     "source": [
      "for $\\textbf{r}$ such that $V(\\textbf{r}) < \\mu_{TF}$. The chemical potential $\\mu_{TF}$ can be calculated using the normalization condition $\\int \\mathrm{d}\\textbf{r} \\, |\\psi(\\textbf{r})|^2 = N$. Then we have $\\mu_{TF}^{(2)}$ and $\\mu_{TF}^{(3)}$ for the two and the three dimensional system respectively:"
     ]
    },
    {
     "cell_type": "markdown",
     "metadata": {},
     "source": [
      "$\\mu_{TF}^{(2)} = \\left(\\frac{Nm \\bar{\\omega}_{(2)}^{2}}{ \\pi} U_0^{(2)} \\right)^{1/2}$,"
     ]
    },
    {
     "cell_type": "markdown",
     "metadata": {},
     "source": [
      "$\\mu_{TF}^{(3)} = \\left( \\Gamma(\\frac{7}{2}) N (\\frac{m \\bar{\\omega}_{(3)}^{2} }{2 \\pi})^{3/2} U_0^{(3)} \\right)^{2/5}$,"
     ]
    },
    {
     "cell_type": "markdown",
     "metadata": {},
     "source": [
      "where $\\bar{\\omega}_{(d)} = (\\prod_{i = 1}^{d} \\omega_i)^{1/d}$."
     ]
    },
    {
     "cell_type": "markdown",
     "metadata": {},
     "source": [
      " The BEC is trapped in a harmonic potential:"
     ]
    },
    {
     "cell_type": "markdown",
     "metadata": {},
     "source": [
      "$V(x,y) = \\frac{m}{2} (\\omega_1^2 x^2 + \\omega_2^2 y^2)$"
     ]
    },
    {
     "cell_type": "markdown",
     "metadata": {},
     "source": [
      "for the two-dimensional system, and"
     ]
    },
    {
     "cell_type": "markdown",
     "metadata": {},
     "source": [
      "$V(x,y,z) = \\frac{m}{2} (\\omega_1^2 x^2 + \\omega_2^2 y^2+ \\omega_3^2 z^2)$"
     ]
    },
    {
     "cell_type": "markdown",
     "metadata": {},
     "source": [
      "for the three-dimensional system. We note that the extention of the ground state along a given axis depends only on the chemical potential, at fixed frequencies ($w_1$, $w_2$). So, if $\\mu_{TF}^{(2)} = \\mu_{TF}^{(3)}$, then the BEC in the two-dimensional space will have the same spatial extention as the BEC in the three-dimensional space. Given this condition, we can write the coupling constant $U_0^{(2)}$ as a function of $U_0^{(3)}$, that was our goal. The expression is:"
     ]
    },
    {
     "cell_type": "markdown",
     "metadata": {},
     "source": [
      "$U_0^{(2)} = \\frac{1}{2}  (\\frac{m \\pi}{2 N })^{(1/5)} \\left(\\frac{\\bar{\\omega}_{(3)}^{6/5}}{\\bar{\\omega}_{(2)}} \\right)^{2} \\left(\\frac{15}{8} U_0^{(3)} \\right)^{4/5} $."
     ]
    },
    {
     "cell_type": "heading",
     "level": 1,
     "metadata": {},
     "source": [
      "Parameters and unit of measure"
     ]
    },
    {
     "cell_type": "markdown",
     "metadata": {},
     "source": [
      "In this section, we give the physical parameters of the system and, since we are going to use simplified parameters, we provide the unit conversion."
     ]
    },
    {
     "cell_type": "markdown",
     "metadata": {},
     "source": [
      "The BEC is made up of $N = 1.7 \\cdot 10^6$ sodium atoms, whose mass is $m = 38.1754 \\cdot 10^{-27}$Kg in SI units. Using our unit we have $m = 1$au."
     ]
    },
    {
     "cell_type": "markdown",
     "metadata": {},
     "source": [
      "The condensate is confined by an harmonic potential $V(x,y) = \\frac{m}{2} (\\omega_1^2 x^2 + \\omega_2^2 y^2)$, where $\\omega_1 = 2 \\pi 28$Hz $\\omega_2 = \\sqrt{2} \\pi 28$Hz. Using our units we have $\\omega_1 = 1$au $\\omega_2 = \\frac{1}{\\sqrt{2}}$au."
     ]
    },
    {
     "cell_type": "markdown",
     "metadata": {},
     "source": [
      "Furthermore we set $\\hbar = 1au$."
     ]
    },
    {
     "cell_type": "markdown",
     "metadata": {},
     "source": [
      "The conversion unit for the distance and time are the following:"
     ]
    },
    {
     "cell_type": "markdown",
     "metadata": {},
     "source": [
      "$3.9625731593789766 \\cdot 10^{-6}\\mathrm{m} = 1$au"
     ]
    },
    {
     "cell_type": "markdown",
     "metadata": {},
     "source": [
      "$5.684105110424833 \\cdot 10^{-3}\\mathrm{s} = 1$au\n"
     ]
    },
    {
     "cell_type": "markdown",
     "metadata": {},
     "source": [
      "The three-dimensional coupling constant $U_0^{(3)}$ is defined as $U_0^{(3)} = \\frac{4\\pi \\hbar^2 a_s}{m}$, where $a_s = 2.75 \\cdot 10^{-9}$m for sodium atoms. Using our simplified units we get $U_0^{(3)} = 0.008721$ and $U_0^{(2)} = 0.0007116007999594$."
     ]
    },
    {
     "cell_type": "heading",
     "level": 1,
     "metadata": {},
     "source": [
      "Simulation"
     ]
    },
    {
     "cell_type": "markdown",
     "metadata": {},
     "source": [
      "We start importing the modules we need and defining the two-dimensional lattice:"
     ]
    },
    {
     "cell_type": "code",
     "collapsed": false,
     "input": [
      "import numpy as np\n",
      "import trottersuzuki as ts\n",
      "from matplotlib import pyplot as plt"
     ],
     "language": "python",
     "metadata": {},
     "outputs": [],
     "prompt_number": 1
    },
    {
     "cell_type": "markdown",
     "metadata": {},
     "source": [
      "we choose a lattice with number of dots $N_d = 640 \\times 640$, and area $A = 50\\mathrm{au} \\times 50$au:"
     ]
    },
    {
     "cell_type": "code",
     "collapsed": false,
     "input": [
      "dim = 640\n",
      "length = 50."
     ],
     "language": "python",
     "metadata": {},
     "outputs": [],
     "prompt_number": 2
    },
    {
     "cell_type": "markdown",
     "metadata": {},
     "source": [
      "then the distance between two neighbours dots along the axis $x$ and axis $y$ are:"
     ]
    },
    {
     "cell_type": "code",
     "collapsed": false,
     "input": [
      "delta_x = length / dim\n",
      "delta_y = length / dim"
     ],
     "language": "python",
     "metadata": {},
     "outputs": [],
     "prompt_number": 3
    },
    {
     "cell_type": "markdown",
     "metadata": {},
     "source": [
      "We use open boundaries condition along the two axes $x$ and $y$:"
     ]
    },
    {
     "cell_type": "code",
     "collapsed": false,
     "input": [
      "periods = [0, 0]  # 0: open boundary; 1: periodic boundary."
     ],
     "language": "python",
     "metadata": {},
     "outputs": [],
     "prompt_number": 4
    },
    {
     "cell_type": "markdown",
     "metadata": {},
     "source": [
      "We set the Hamiltonian's variables:"
     ]
    },
    {
     "cell_type": "code",
     "collapsed": false,
     "input": [
      "particle_mass = 1\n",
      "num_particles = 1700000\n",
      "coupling_const = 7.116007999594e-4"
     ],
     "language": "python",
     "metadata": {},
     "outputs": [],
     "prompt_number": 5
    },
    {
     "cell_type": "markdown",
     "metadata": {},
     "source": [
      "and the harmonic external potential $V(x,y) = \\frac{m}{2} (\\omega_1^2 x^2 + \\omega_2^2 y^2)$ as a two-dimensional array:"
     ]
    },
    {
     "cell_type": "code",
     "collapsed": false,
     "input": [
      "external_potential = np.zeros((dim, dim))\n",
      "def ext_potential (_x, _y):\n",
      "\tx = (_x - dim*0.5) * delta_x\n",
      "\ty = (_y - dim*0.5) * delta_y\n",
      "\tw_x = 1\n",
      "\tw_y = 1 / np.sqrt(2)\n",
      "\treturn 0.5 * (w_x*w_x * x*x + w_y*w_y * y*y)\n",
      "\n",
      "for y in range(0, dim):\n",
      "    for x in range(0, dim):\n",
      "        external_potential[y, x] = ext_potential(x, y)"
     ],
     "language": "python",
     "metadata": {},
     "outputs": [],
     "prompt_number": 6
    },
    {
     "cell_type": "heading",
     "level": 1,
     "metadata": {},
     "source": [
      "Ground state approximation"
     ]
    },
    {
     "cell_type": "markdown",
     "metadata": {},
     "source": [
      "We use the imaginary time evolution to find the ground state of the system. We start with an initial state $\\psi_0$ with norm $||\\psi_0||^2 = N$:"
     ]
    },
    {
     "cell_type": "code",
     "collapsed": false,
     "input": [
      "p_real = np.ones((dim,dim))\n",
      "p_imag = np.zeros((dim,dim))\n",
      "for y in range(0, dim):\n",
      "    for x in range(0, dim):\n",
      "        p_real[y, x] = np.sqrt(num_particles)/length"
     ],
     "language": "python",
     "metadata": {},
     "outputs": [],
     "prompt_number": 7
    },
    {
     "cell_type": "markdown",
     "metadata": {},
     "source": [
      "We set the evolution's variables: we performe 18000 iterations with single step evolution time of $\\Delta t = 1 \\cdot 10^{-4}au$, which satisfies the condition $\\Delta t < \\Delta x \\Delta y$:"
     ]
    },
    {
     "cell_type": "code",
     "collapsed": false,
     "input": [
      "imag_time = True    # True: imaginary time evolution; False: real time evolution\n",
      "iterations = 18000  #number of iterations\n",
      "delta_t = 1.e-4     #evolution time of a single iteration step\n",
      "kernel_type = 0     #the evolution is performed by the CPU kernel"
     ],
     "language": "python",
     "metadata": {},
     "outputs": [],
     "prompt_number": 8
    },
    {
     "cell_type": "markdown",
     "metadata": {},
     "source": [
      "We launch the evolution"
     ]
    },
    {
     "cell_type": "code",
     "collapsed": false,
     "input": [
      "ts.evolve(p_real, p_imag, particle_mass, external_potential, delta_x, delta_y, delta_t, iterations, coupling_const, kernel_type, periods, imag_time)"
     ],
     "language": "python",
     "metadata": {},
     "outputs": [
      {
       "ename": "AttributeError",
       "evalue": "'module' object has no attribute 'evolve'",
       "output_type": "pyerr",
       "traceback": [
        "\u001b[0;31m---------------------------------------------------------------------------\u001b[0m\n\u001b[0;31mAttributeError\u001b[0m                            Traceback (most recent call last)",
        "\u001b[0;32m<ipython-input-9-3b3e248e4bc8>\u001b[0m in \u001b[0;36m<module>\u001b[0;34m()\u001b[0m\n\u001b[0;32m----> 1\u001b[0;31m \u001b[0mts\u001b[0m\u001b[0;34m.\u001b[0m\u001b[0mevolve\u001b[0m\u001b[0;34m(\u001b[0m\u001b[0mp_real\u001b[0m\u001b[0;34m,\u001b[0m \u001b[0mp_imag\u001b[0m\u001b[0;34m,\u001b[0m \u001b[0mparticle_mass\u001b[0m\u001b[0;34m,\u001b[0m \u001b[0mexternal_potential\u001b[0m\u001b[0;34m,\u001b[0m \u001b[0mdelta_x\u001b[0m\u001b[0;34m,\u001b[0m \u001b[0mdelta_y\u001b[0m\u001b[0;34m,\u001b[0m \u001b[0mdelta_t\u001b[0m\u001b[0;34m,\u001b[0m \u001b[0miterations\u001b[0m\u001b[0;34m,\u001b[0m \u001b[0mcoupling_const\u001b[0m\u001b[0;34m,\u001b[0m \u001b[0mkernel_type\u001b[0m\u001b[0;34m,\u001b[0m \u001b[0mperiods\u001b[0m\u001b[0;34m,\u001b[0m \u001b[0mimag_time\u001b[0m\u001b[0;34m)\u001b[0m\u001b[0;34m\u001b[0m\u001b[0m\n\u001b[0m",
        "\u001b[0;31mAttributeError\u001b[0m: 'module' object has no attribute 'evolve'"
       ]
      }
     ],
     "prompt_number": 9
    },
    {
     "cell_type": "heading",
     "level": 1,
     "metadata": {},
     "source": [
      "Phase imprinting"
     ]
    },
    {
     "cell_type": "markdown",
     "metadata": {},
     "source": [
      "The soliton is generated by phase imprinting of the ground state. This can be simulated as an istantaneous transformation of the ground state $\\psi_{GS}(x,y) \\rightarrow \\psi'(x,y) = \\mathrm{e}^{\\imath \\phi(x)} \\psi_{GS}(x,y)$, where $\\phi(x,y) = \\frac{\\theta}{2} \\left[1 + \\tanh\\left(\\frac{x}{l}\\right)\\right]$, $\\theta = 1.5\\pi$ and $l=2 \\mathrm{\\mu m}$. Then:"
     ]
    },
    {
     "cell_type": "code",
     "collapsed": false,
     "input": [
      "a = 1.98128   # a = 1/l in simplified units\n",
      "theta = 1.5 * np.pi;\n",
      "\n",
      "for y in range(0, dim):\n",
      "    for x in range(0, dim):\n",
      "        tmp_real = np.cos(theta * 0.5 * (1. + np.tanh(-a * (x - dim/2.)*delta_x)))\n",
      "        tmp_imag = np.sin(theta * 0.5 * (1. + np.tanh(-a * (x - dim/2.)*delta_x)))\n",
      "        tmp = p_real[y, x]\n",
      "        p_real[y, x] = tmp_real * tmp - tmp_imag * p_imag[y, x]\n",
      "        p_imag[y, x] = tmp_real * p_imag[y, x] + tmp_imag * tmp"
     ],
     "language": "python",
     "metadata": {},
     "outputs": []
    },
    {
     "cell_type": "heading",
     "level": 1,
     "metadata": {},
     "source": [
      "Soliton evolution"
     ]
    },
    {
     "cell_type": "markdown",
     "metadata": {},
     "source": [
      "Finally, we exploit a real time evolution of the phase imprinted state, observing the generation of the dark soliton. First we set the evolution's variables:"
     ]
    },
    {
     "cell_type": "code",
     "collapsed": false,
     "input": [
      "imag_time = False\n",
      "iterations = 2000\n",
      "delta_t = 5.e-5\n",
      "kernel_type = 0"
     ],
     "language": "python",
     "metadata": {},
     "outputs": []
    },
    {
     "cell_type": "markdown",
     "metadata": {},
     "source": [
      "Then we launch the evolution:"
     ]
    },
    {
     "cell_type": "code",
     "collapsed": false,
     "input": [
      "ts.evolve(p_real, p_imag, particle_mass, external_potential, delta_x, delta_y, delta_t, iterations, coupling_const, kernel_type, periods, imag_time)"
     ],
     "language": "python",
     "metadata": {},
     "outputs": []
    },
    {
     "cell_type": "markdown",
     "metadata": {},
     "source": [
      "The result can be seen by plotting the density particle function:"
     ]
    },
    {
     "cell_type": "code",
     "collapsed": false,
     "input": [
      "norm_2 = np.ones((dim,dim))\n",
      "for y in range(0, dim):\n",
      "    for x in range(0, dim):\n",
      "        norm_2[y, x] = (p_real[y, x] * p_real[y, x] + p_imag[y, x] * p_imag[y, x]) * num_particles\n",
      "\n",
      "heatmap = plt.pcolor(norm_2)\n",
      "plt.show()"
     ],
     "language": "python",
     "metadata": {},
     "outputs": []
    }
   ],
   "metadata": {}
  }
 ]
}
