{
 "cells": [
  {
   "cell_type": "markdown",
   "metadata": {},
   "source": [
    "# Dark Soliton Generation in Bose-Einstein Condensate using Phase Imprinting"
   ]
  },
  {
   "cell_type": "markdown",
   "metadata": {},
   "source": [
    "In this notebook, we simulate the evolution of a dark soliton in a Bose-Einstein Condensate, exploiting the trotter-suzuki runtime. In particular, we simulate the system that was experimentally studied at NIST by J. Denschlag at all. [J. Denschlag, J. E. Simsarian, D. L. Feder, C. W. Clark, L. A. Collins, J. Cubizolles, L. Deng, E. W. Hagley, K. Helmerson, W. P. Reinhardt, S. L. Rolston, B. I. Schneider, and W. D. Phillips. Generating solitons by phase engineering of a Bose–Einstein condensate. Science, 287(5450):97–101, 2000.]\n",
    "\n",
    "First, the ground state is calculated using imaginary time evolution, then the phase imprinting is applied. Finally a real time evolution is performed."
   ]
  },
  {
   "cell_type": "markdown",
   "metadata": {},
   "source": [
    "## Theoretical Background"
   ]
  },
  {
   "cell_type": "markdown",
   "metadata": {},
   "source": [
    "In this section, we introduce the theoretical background of the Bose-Einstein dynamics, introducing the Gross-Pitaevskii equation.\n",
    "\n",
    "The dynamics of a weakly interacting Bose–Einstein condensate may be described by a nonlinear Schrodinger equation, namely, the Gross–Pitaevskii equation. Suppose we have a N-particle system, comprised of bosons interacting with each other. Using the Hartree approximation, we write the many-body wave function as:\n",
    "\\begin{equation}\n",
    "\\psi(\\textbf{r}_1, \\textbf{r}_2,\\ldots, \\textbf{r}_N) = \\prod_{i=1}^N \\phi(\\textbf{r}_i),\n",
    "\\end{equation}\n",
    "where the single-particle wave function $\\phi(\\textbf{r}_i)$ is normalized in the usual way,\n",
    "\\begin{equation}\n",
    "\\int \\mathrm{d}\\textbf{r} \\, |\\phi(\\textbf{r})|^2 = 1.\n",
    "\\end{equation}\n",
    "\n",
    "For low energy particles, the interaction can be described by an effective potential\n",
    "that in coordinate space corresponds to a contact interaction $U_0 \\delta(\\textbf{r} - \\textbf{r}')$, where $U_0 = 4 \\pi \\hbar^2 a_s / m$ and $a_s$ is the scattering length of the interaction (this holds for a three-dimensonal system). Considering an external potential $V(\\textbf{r}_i)$, the Hamiltonian may be written as\n",
    "\\begin{equation}\n",
    "H = \\sum_{i=1}^N \\left[ \\frac{\\textbf{p}_i^2}{2 m} + V(\\textbf{r}_i) \\right] + U_0 \\sum_{i<j} \\delta(\\textbf{r}_i - \\textbf{r}_j).\n",
    "\\end{equation}\n",
    "Then, the energy of the state is given by\n",
    "\\begin{equation}\n",
    "E =  N \\int \\mathrm{d} \\textbf{r} \\, \\left[ \\frac{\\hbar^2}{2m} |\\nabla \\phi(\\textbf{r}) |^2 + V(\\textbf{r}) |\\phi(\\textbf{r})|^2 + \\frac{(N-1)}{2} U_0 |\\phi(\\textbf{r})|^4 \\right].\n",
    "\\end{equation}\n",
    "It is convenient to introduce the concept of the wave function of the condensed state,\n",
    "\\begin{equation}\n",
    "\\psi(\\textbf{r}) = N^{1/2} \\phi(\\textbf{r}),\n",
    "\\end{equation}\n",
    "so that the normalization condition becomes\n",
    "\\begin{equation}\n",
    "\\int \\mathrm{d}\\textbf{r} \\, |\\psi(\\textbf{r})|^2 = N.\n",
    "\\end{equation}\n",
    "Moreover, we suppose that $N \\gg 1$ so that the energy can be rewritten as,\n",
    "\\begin{equation}\n",
    "E = \\int \\mathrm{d} \\textbf{r} \\, \\varepsilon  = \\int \\mathrm{d} \\textbf{r} \\, \\left[ \\frac{\\hbar^2}{2m} |\\nabla \\psi(\\textbf{r}) |^2 + V(\\textbf{r}) |\\psi(\\textbf{r})|^2 + \\frac{1}{2} U_0 |\\psi(\\textbf{r})|^4 \\right].\n",
    "\\end{equation}\n",
    "The equation of motion may be derived from the principle of least action\n",
    "\\begin{equation}\n",
    "\\delta \\int_{t1}^{t2} \\mathrm{d} t \\, L = 0,\n",
    "\\end{equation}\n",
    "where the Lagrangian $L$ is given by\n",
    "\\begin{equation}\n",
    "L = \\int \\mathrm{d} \\textbf{r} \\, \\left[ \\frac{\\imath \\hbar}{2} \\left( \\psi^\\ast \\frac{\\partial \\psi}{\\partial t} - \\psi \\frac{\\partial \\psi^\\ast}{\\partial t} \\right) - \\varepsilon \\right].\n",
    "\\end{equation}\n",
    "Requiring that the variation of the independent variables $\\psi(\\textbf{r},t)$ and $\\psi^\\ast (\\textbf{r},t)$ vanishes at $t=t_1$ and $t=t_2$, and on any spatial boundaries, one finds the Gross-Pitaevskii equation:\n",
    "\\begin{equation}\n",
    "\\imath \\hbar \\frac{\\partial}{\\partial t} \\psi(\\textbf{r}, t) = \\left[ - \\frac{\\hbar^2}{2m} \\nabla^2 + V(\\textbf{r}) + U_0 |\\psi(\\textbf{r}, t)|^2 \\right] \\psi(\\textbf{r}, t).\n",
    "\\end{equation}"
   ]
  },
  {
   "cell_type": "markdown",
   "metadata": {},
   "source": [
    "## Calculation of the coupling constant $U_0$"
   ]
  },
  {
   "cell_type": "markdown",
   "metadata": {},
   "source": [
    "The system studied at NIST was a BEC of sodium atoms, confined by a three-dimensional harmonic trap. However, the trotter-suzuki module implements a two-dimensional Gross-Pitaevskii. This is not a limiting factor since the interesting dynamic is developed in a two-dimensional space, that comprises the axis along which the soliton propagates. Then we need to find the equation of motion of the system in the two-dimensional space. The approach that we adopt is to use a two-dimensional Gross-Pitaevskii equation where the coupling constant $U_0^{(2)}$ is such that the spatial extention of the ground state in the two-dimensional system is the same as the spatial extent, along the same plane, of the ground state in the three-dimensional system.\n",
    "\n",
    "The spatial extent is accuratelly determined in the Tomas-Fermi regime, which our system satisfy. Suppose that the contribution of the kinetic energy term is negligible with respect to the one of the interaction term. Then, the ground state is approximated by the solution of the time independent Gross-Pitaevskii equation deprived of the kinetic term:\n",
    "\\begin{equation}\n",
    "\\left[ V(\\textbf{r}) + U_0 |\\psi(\\textbf{r})|^2 \\right] \\psi(\\textbf{r}) = \\mu_{TF} \\psi(\\textbf{r}),\n",
    "\\end{equation}\n",
    "where $\\mu_{TF}$ is the chemical potential. This gives the solution\n",
    "\\begin{equation}\n",
    "n(\\textbf{r}) = |\\psi(\\textbf{r})|^2 = \\frac{\\mu_{TF} - V(\\textbf{r})}{U_0},\n",
    "\\end{equation}\n",
    "for $\\textbf{r}$ such that $V(\\textbf{r}) < \\mu_{TF}$. The chemical potential $\\mu_{TF}$ can be calculated using the normalization condition $\\int \\mathrm{d}\\textbf{r} \\, |\\psi(\\textbf{r})|^2 = N$. Then we have $\\mu_{TF}^{(2)}$ and $\\mu_{TF}^{(3)}$ for the two and the three dimensional system respectively:\n",
    "\\begin{equation}\n",
    "\\mu_{TF}^{(2)} = \\left(\\frac{Nm \\bar{\\omega}_{(2)}^{2}}{ \\pi} U_0^{(2)} \\right)^{1/2},\n",
    "\\end{equation}\n",
    "\\begin{equation}\n",
    "\\mu_{TF}^{(3)} = \\left( \\Gamma(\\frac{7}{2}) N (\\frac{m \\bar{\\omega}_{(3)}^{2} }{2 \\pi})^{3/2} U_0^{(3)} \\right)^{2/5},\n",
    "\\end{equation}\n",
    "where $\\bar{\\omega}_{(d)} = (\\prod_{i = 1}^{d} \\omega_i)^{1/d}$.\n",
    "\n",
    "The BEC is trapped in a harmonic potential:\n",
    "\\begin{equation}\n",
    "V(x,y) = \\frac{m}{2} (\\omega_1^2 x^2 + \\omega_2^2 y^2),\n",
    "\\end{equation}\n",
    "for the two-dimensional system, and\n",
    "\\begin{equation}\n",
    "V(x,y,z) = \\frac{m}{2} (\\omega_1^2 x^2 + \\omega_2^2 y^2+ \\omega_3^2 z^2),\n",
    "\\end{equation}\n",
    "for the three-dimensional system. We note that the extention of the ground state along a given axis depends only on the chemical potential, at fixed frequencies ($w_1$, $w_2$). So, if $\\mu_{TF}^{(2)} = \\mu_{TF}^{(3)}$, then the BEC in the two-dimensional space will have the same spatial extention as the BEC in the three-dimensional space. Given this condition, we can write the coupling constant $U_0^{(2)}$ as a function of $U_0^{(3)}$, that was our goal. The expression is:\n",
    "\\begin{equation}\n",
    "U_0^{(2)} = \\frac{1}{2}  (\\frac{m \\pi}{2 N })^{(1/5)} \\left(\\frac{\\bar{\\omega}_{(3)}^{6/5}}{\\bar{\\omega}_{(2)}} \\right)^{2} \\left(\\frac{15}{8} U_0^{(3)} \\right)^{4/5}.\n",
    "\\end{equation}"
   ]
  },
  {
   "cell_type": "markdown",
   "metadata": {},
   "source": [
    "# Parameters and unit of measure"
   ]
  },
  {
   "cell_type": "markdown",
   "metadata": {},
   "source": [
    "In this section, we give the physical parameters of the system and, since we are going to use simplified parameters, we provide the unit conversion.\n",
    "The BEC is made up of $N = 1.7 \\cdot 10^6$ sodium atoms, whose mass is $m = 38.1754 \\cdot 10^{-27}$Kg in SI units. Using our unit we have $m = 1$au.\n",
    "The condensate is confined by an harmonic potential $V(x,y) = \\frac{m}{2} (\\omega_1^2 x^2 + \\omega_2^2 y^2)$, where $\\omega_1 = 2 \\pi 28$Hz $\\omega_2 = \\sqrt{2} \\pi 28$Hz. Using our units we have $\\omega_1 = 1$au $\\omega_2 = \\frac{1}{\\sqrt{2}}$au.\n",
    "Set $\\hbar = 1au$, the conversion unit for the distance and time are the following:\n",
    "*   $L = 3.9625731593789766 \\cdot 10^{-6}\\mathrm{m} = 1$au\n",
    "*   $\\tau = 5.684105110424833 \\cdot 10^{-3}\\mathrm{s} = 1$au\n",
    "\n",
    "The three-dimensional coupling constant $U_0^{(3)}$ is defined as $U_0^{(3)} = \\frac{4\\pi \\hbar^2 a_s}{m}$, where $a_s = 2.75 \\cdot 10^{-9}$m for sodium atoms. Using our simplified units we get $U_0^{(3)} = 0.008721$ and $U_0^{(2)} = 0.0007116007999594$."
   ]
  },
  {
   "cell_type": "markdown",
   "metadata": {},
   "source": [
    "# Simulation"
   ]
  },
  {
   "cell_type": "markdown",
   "metadata": {},
   "source": [
    "We start importing the modules we need and defining the two-dimensional lattice:"
   ]
  },
  {
   "cell_type": "code",
   "execution_count": 9,
   "metadata": {
    "collapsed": false
   },
   "outputs": [],
   "source": [
    "import numpy as np\n",
    "import trottersuzuki as ts\n",
    "from matplotlib import pyplot as plt"
   ]
  },
  {
   "cell_type": "markdown",
   "metadata": {},
   "source": [
    "we choose a lattice with number of dots $N_d = 640 \\times 640$, and area $A = 50\\mathrm{au} \\times 50$au, with open boundaries:"
   ]
  },
  {
   "cell_type": "code",
   "execution_count": 10,
   "metadata": {
    "collapsed": false
   },
   "outputs": [],
   "source": [
    "grid = ts.Lattice(640, 50.)"
   ]
  },
  {
   "cell_type": "markdown",
   "metadata": {},
   "source": [
    "Create an harmonic external potential $V(x,y) = \\frac{m}{2} (\\omega_1^2 x^2 + \\omega_2^2 y^2)$ and set the Hamiltonian:"
   ]
  },
  {
   "cell_type": "code",
   "execution_count": 11,
   "metadata": {
    "collapsed": false
   },
   "outputs": [],
   "source": [
    "potential = ts.HarmonicPotential(grid, 1., 1./np.sqrt(2.))\n",
    "particle_mass = 1\n",
    "coupling_const = 7.116007999594e-4\n",
    "hamiltonian = ts.Hamiltonian(grid, potential, particle_mass, coupling_const)"
   ]
  },
  {
   "cell_type": "markdown",
   "metadata": {},
   "source": [
    "The initial state is has a gaussian wave function such that $||\\psi_0||^2 = N$:"
   ]
  },
  {
   "cell_type": "code",
   "execution_count": 12,
   "metadata": {
    "collapsed": false
   },
   "outputs": [],
   "source": [
    "num_particles = 1700000\n",
    "state = ts.GaussianState(grid, 0.1, 0.1, 0., 0., num_particles)"
   ]
  },
  {
   "cell_type": "markdown",
   "metadata": {},
   "source": [
    "Initialize the solver:"
   ]
  },
  {
   "cell_type": "code",
   "execution_count": 13,
   "metadata": {
    "collapsed": false
   },
   "outputs": [],
   "source": [
    "delta_t  = 1e-4\n",
    "solver = ts.Solver(grid, state, hamiltonian, delta_t)"
   ]
  },
  {
   "cell_type": "markdown",
   "metadata": {},
   "source": [
    "# Ground state approximation"
   ]
  },
  {
   "cell_type": "markdown",
   "metadata": {},
   "source": [
    "We use the imaginary time evolution to find the ground state of the system. We performe 18000 iterations with single step evolution time of $\\Delta t = 1 \\cdot 10^{-4}au$, which satisfies the condition $\\Delta t < \\Delta x \\Delta y$:"
   ]
  },
  {
   "cell_type": "code",
   "execution_count": 14,
   "metadata": {
    "collapsed": false
   },
   "outputs": [],
   "source": [
    "iterations = 18000  #number of iterations\n",
    "solver.evolve(iterations, True)"
   ]
  },
  {
   "cell_type": "markdown",
   "metadata": {},
   "source": [
    "# Phase imprinting"
   ]
  },
  {
   "cell_type": "markdown",
   "metadata": {},
   "source": [
    "The soliton is generated by phase imprinting of the ground state. This can be simulated as an istantaneous transformation of the ground state $\\psi_{GS}(x,y) \\rightarrow \\psi'(x,y) = \\mathrm{e}^{\\imath \\phi(x)} \\psi_{GS}(x,y)$, where $\\phi(x,y) = \\frac{\\theta}{2} \\left[1 + \\tanh\\left(\\frac{x}{l}\\right)\\right]$, $\\theta = 1.5\\pi$ and $l=2 \\mathrm{\\mu m}$. Then:"
   ]
  },
  {
   "cell_type": "code",
   "execution_count": 15,
   "metadata": {
    "collapsed": false
   },
   "outputs": [],
   "source": [
    "def soliton(x,y):\n",
    "    a = 1.98128   # a = 1/l in simplified units\n",
    "    theta = 1.5 * np.pi;\n",
    "    return np.exp(1j * (theta * 0.5 * (1. + np.tanh(-a * x))))\n",
    "    \n",
    "state.imprint(soliton)"
   ]
  },
  {
   "cell_type": "markdown",
   "metadata": {},
   "source": [
    "# Soliton evolution"
   ]
  },
  {
   "cell_type": "markdown",
   "metadata": {},
   "source": [
    "Finally, we exploit a real time evolution of the phase imprinted state, observing the generation of the dark soliton. First we set the evolution's variables:"
   ]
  },
  {
   "cell_type": "code",
   "execution_count": null,
   "metadata": {
    "collapsed": false
   },
   "outputs": [],
   "source": [
    "iterations = 1000\n",
    "solver.evolve(iterations)"
   ]
  },
  {
   "cell_type": "markdown",
   "metadata": {},
   "source": [
    "The result can be seen by plotting the density particle function:"
   ]
  },
  {
   "cell_type": "code",
   "execution_count": null,
   "metadata": {
    "collapsed": false
   },
   "outputs": [],
   "source": [
    "density = state.get_particle_density()\n",
    "heatmap = plt.pcolor(density)\n",
    "plt.show()"
   ]
  }
 ],
 "metadata": {
  "kernelspec": {
   "display_name": "Python 2",
   "language": "python",
   "name": "python2"
  },
  "language_info": {
   "codemirror_mode": {
    "name": "ipython",
    "version": 2
   },
   "file_extension": ".py",
   "mimetype": "text/x-python",
   "name": "python",
   "nbconvert_exporter": "python",
   "pygments_lexer": "ipython2",
   "version": "2.7.6"
  }
 },
 "nbformat": 4,
 "nbformat_minor": 0
}
